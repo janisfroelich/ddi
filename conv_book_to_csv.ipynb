{
 "cells": [
  {
   "cell_type": "code",
   "execution_count": 14,
   "metadata": {
    "collapsed": true
   },
   "outputs": [],
   "source": [
    "import numpy as np\n",
    "import pandas as pd"
   ]
  },
  {
   "cell_type": "code",
   "execution_count": 15,
   "outputs": [],
   "source": [
    "df = pd.read_json(\"book-progression.json\", orient=\"records\")"
   ],
   "metadata": {
    "collapsed": false,
    "pycharm": {
     "name": "#%%\n"
    }
   }
  },
  {
   "cell_type": "code",
   "execution_count": 16,
   "outputs": [
    {
     "data": {
      "text/plain": "   id                                              tasks requires\n0   A                                              [000]       []\n1   B  [001, 002, 003, 004, 005, 006, 007, 008, 009, ...      [A]\n2   C  [013, 014, 015, 016, 017, 018, 019, 020, 021, ...      [A]\n3   D      [025, 026, 027, 028, 029, 030, 031, 032, 033]      [A]\n4   E           [034, 035, 036, 037, 038, 039, 040, 041]      [A]\n5   H                [051, 052, 053, 054, 055, 056, 057]      [A]\n6   F  [059, 060, 061, 062, 043, 063, 044, 045, 046, ...      [A]\n7   K  [090, 091, 092, 093, 094, 095, 096, 097, 098, ...      [A]\n8   G  [050, 068, 069, 070, 071, 072, 073, 074, 075, ...      [A]\n9   J  [077, 078, 079, 080, 081, 082, 083, 084, 085, ...      [A]\n10  I                                    [058, 101, 102]      [A]",
      "text/html": "<div>\n<style scoped>\n    .dataframe tbody tr th:only-of-type {\n        vertical-align: middle;\n    }\n\n    .dataframe tbody tr th {\n        vertical-align: top;\n    }\n\n    .dataframe thead th {\n        text-align: right;\n    }\n</style>\n<table border=\"1\" class=\"dataframe\">\n  <thead>\n    <tr style=\"text-align: right;\">\n      <th></th>\n      <th>id</th>\n      <th>tasks</th>\n      <th>requires</th>\n    </tr>\n  </thead>\n  <tbody>\n    <tr>\n      <th>0</th>\n      <td>A</td>\n      <td>[000]</td>\n      <td>[]</td>\n    </tr>\n    <tr>\n      <th>1</th>\n      <td>B</td>\n      <td>[001, 002, 003, 004, 005, 006, 007, 008, 009, ...</td>\n      <td>[A]</td>\n    </tr>\n    <tr>\n      <th>2</th>\n      <td>C</td>\n      <td>[013, 014, 015, 016, 017, 018, 019, 020, 021, ...</td>\n      <td>[A]</td>\n    </tr>\n    <tr>\n      <th>3</th>\n      <td>D</td>\n      <td>[025, 026, 027, 028, 029, 030, 031, 032, 033]</td>\n      <td>[A]</td>\n    </tr>\n    <tr>\n      <th>4</th>\n      <td>E</td>\n      <td>[034, 035, 036, 037, 038, 039, 040, 041]</td>\n      <td>[A]</td>\n    </tr>\n    <tr>\n      <th>5</th>\n      <td>H</td>\n      <td>[051, 052, 053, 054, 055, 056, 057]</td>\n      <td>[A]</td>\n    </tr>\n    <tr>\n      <th>6</th>\n      <td>F</td>\n      <td>[059, 060, 061, 062, 043, 063, 044, 045, 046, ...</td>\n      <td>[A]</td>\n    </tr>\n    <tr>\n      <th>7</th>\n      <td>K</td>\n      <td>[090, 091, 092, 093, 094, 095, 096, 097, 098, ...</td>\n      <td>[A]</td>\n    </tr>\n    <tr>\n      <th>8</th>\n      <td>G</td>\n      <td>[050, 068, 069, 070, 071, 072, 073, 074, 075, ...</td>\n      <td>[A]</td>\n    </tr>\n    <tr>\n      <th>9</th>\n      <td>J</td>\n      <td>[077, 078, 079, 080, 081, 082, 083, 084, 085, ...</td>\n      <td>[A]</td>\n    </tr>\n    <tr>\n      <th>10</th>\n      <td>I</td>\n      <td>[058, 101, 102]</td>\n      <td>[A]</td>\n    </tr>\n  </tbody>\n</table>\n</div>"
     },
     "execution_count": 16,
     "metadata": {},
     "output_type": "execute_result"
    }
   ],
   "source": [
    "df"
   ],
   "metadata": {
    "collapsed": false,
    "pycharm": {
     "name": "#%%\n"
    }
   }
  },
  {
   "cell_type": "code",
   "execution_count": 17,
   "outputs": [],
   "source": [
    "df_book = df[[\"id\", \"requires\"]]"
   ],
   "metadata": {
    "collapsed": false,
    "pycharm": {
     "name": "#%%\n"
    }
   }
  },
  {
   "cell_type": "code",
   "execution_count": 18,
   "outputs": [
    {
     "data": {
      "text/plain": "   book_id requires\n0        A       []\n1        B      [A]\n2        C      [A]\n3        D      [A]\n4        E      [A]\n5        H      [A]\n6        F      [A]\n7        K      [A]\n8        G      [A]\n9        J      [A]\n10       I      [A]",
      "text/html": "<div>\n<style scoped>\n    .dataframe tbody tr th:only-of-type {\n        vertical-align: middle;\n    }\n\n    .dataframe tbody tr th {\n        vertical-align: top;\n    }\n\n    .dataframe thead th {\n        text-align: right;\n    }\n</style>\n<table border=\"1\" class=\"dataframe\">\n  <thead>\n    <tr style=\"text-align: right;\">\n      <th></th>\n      <th>book_id</th>\n      <th>requires</th>\n    </tr>\n  </thead>\n  <tbody>\n    <tr>\n      <th>0</th>\n      <td>A</td>\n      <td>[]</td>\n    </tr>\n    <tr>\n      <th>1</th>\n      <td>B</td>\n      <td>[A]</td>\n    </tr>\n    <tr>\n      <th>2</th>\n      <td>C</td>\n      <td>[A]</td>\n    </tr>\n    <tr>\n      <th>3</th>\n      <td>D</td>\n      <td>[A]</td>\n    </tr>\n    <tr>\n      <th>4</th>\n      <td>E</td>\n      <td>[A]</td>\n    </tr>\n    <tr>\n      <th>5</th>\n      <td>H</td>\n      <td>[A]</td>\n    </tr>\n    <tr>\n      <th>6</th>\n      <td>F</td>\n      <td>[A]</td>\n    </tr>\n    <tr>\n      <th>7</th>\n      <td>K</td>\n      <td>[A]</td>\n    </tr>\n    <tr>\n      <th>8</th>\n      <td>G</td>\n      <td>[A]</td>\n    </tr>\n    <tr>\n      <th>9</th>\n      <td>J</td>\n      <td>[A]</td>\n    </tr>\n    <tr>\n      <th>10</th>\n      <td>I</td>\n      <td>[A]</td>\n    </tr>\n  </tbody>\n</table>\n</div>"
     },
     "execution_count": 18,
     "metadata": {},
     "output_type": "execute_result"
    }
   ],
   "source": [
    "df_book.rename(columns={\"id\": \"book_id\"})"
   ],
   "metadata": {
    "collapsed": false,
    "pycharm": {
     "name": "#%%\n"
    }
   }
  },
  {
   "cell_type": "code",
   "execution_count": 19,
   "outputs": [
    {
     "name": "stderr",
     "output_type": "stream",
     "text": [
      "/var/folders/f0/pqy2clvx0nv38xm_npv8fklm0000gn/T/ipykernel_12831/3732579735.py:2: SettingWithCopyWarning: \n",
      "A value is trying to be set on a copy of a slice from a DataFrame.\n",
      "Try using .loc[row_indexer,col_indexer] = value instead\n",
      "\n",
      "See the caveats in the documentation: https://pandas.pydata.org/pandas-docs/stable/user_guide/indexing.html#returning-a-view-versus-a-copy\n",
      "  df_book[\"requires\"] = df_book[\"requires\"].apply(lambda x: \",\".join(x))\n"
     ]
    }
   ],
   "source": [
    "#requires from book change type from list to string\n",
    "df_book[\"requires\"] = df_book[\"requires\"].apply(lambda x: \",\".join(x))"
   ],
   "metadata": {
    "collapsed": false,
    "pycharm": {
     "name": "#%%\n"
    }
   }
  },
  {
   "cell_type": "code",
   "execution_count": 20,
   "outputs": [
    {
     "name": "stderr",
     "output_type": "stream",
     "text": [
      "/var/folders/f0/pqy2clvx0nv38xm_npv8fklm0000gn/T/ipykernel_12831/3666414311.py:2: SettingWithCopyWarning: \n",
      "A value is trying to be set on a copy of a slice from a DataFrame\n",
      "\n",
      "See the caveats in the documentation: https://pandas.pydata.org/pandas-docs/stable/user_guide/indexing.html#returning-a-view-versus-a-copy\n",
      "  df_book[\"requires\"][0] = np.nan\n"
     ]
    }
   ],
   "source": [
    "#drop empty row in requires\n",
    "df_book[\"requires\"][0] = np.nan\n",
    "df_book = df_book.dropna(subset=[\"requires\"])"
   ],
   "metadata": {
    "collapsed": false,
    "pycharm": {
     "name": "#%%\n"
    }
   }
  },
  {
   "cell_type": "code",
   "execution_count": 21,
   "outputs": [
    {
     "data": {
      "text/plain": "   id requires\n1   B        A\n2   C        A\n3   D        A\n4   E        A\n5   H        A\n6   F        A\n7   K        A\n8   G        A\n9   J        A\n10  I        A",
      "text/html": "<div>\n<style scoped>\n    .dataframe tbody tr th:only-of-type {\n        vertical-align: middle;\n    }\n\n    .dataframe tbody tr th {\n        vertical-align: top;\n    }\n\n    .dataframe thead th {\n        text-align: right;\n    }\n</style>\n<table border=\"1\" class=\"dataframe\">\n  <thead>\n    <tr style=\"text-align: right;\">\n      <th></th>\n      <th>id</th>\n      <th>requires</th>\n    </tr>\n  </thead>\n  <tbody>\n    <tr>\n      <th>1</th>\n      <td>B</td>\n      <td>A</td>\n    </tr>\n    <tr>\n      <th>2</th>\n      <td>C</td>\n      <td>A</td>\n    </tr>\n    <tr>\n      <th>3</th>\n      <td>D</td>\n      <td>A</td>\n    </tr>\n    <tr>\n      <th>4</th>\n      <td>E</td>\n      <td>A</td>\n    </tr>\n    <tr>\n      <th>5</th>\n      <td>H</td>\n      <td>A</td>\n    </tr>\n    <tr>\n      <th>6</th>\n      <td>F</td>\n      <td>A</td>\n    </tr>\n    <tr>\n      <th>7</th>\n      <td>K</td>\n      <td>A</td>\n    </tr>\n    <tr>\n      <th>8</th>\n      <td>G</td>\n      <td>A</td>\n    </tr>\n    <tr>\n      <th>9</th>\n      <td>J</td>\n      <td>A</td>\n    </tr>\n    <tr>\n      <th>10</th>\n      <td>I</td>\n      <td>A</td>\n    </tr>\n  </tbody>\n</table>\n</div>"
     },
     "execution_count": 21,
     "metadata": {},
     "output_type": "execute_result"
    }
   ],
   "source": [
    "df_book"
   ],
   "metadata": {
    "collapsed": false,
    "pycharm": {
     "name": "#%%\n"
    }
   }
  },
  {
   "cell_type": "code",
   "execution_count": 48,
   "outputs": [],
   "source": [
    "df = df.drop(columns=[\"requires\"])"
   ],
   "metadata": {
    "collapsed": false,
    "pycharm": {
     "name": "#%%\n"
    }
   }
  },
  {
   "cell_type": "code",
   "execution_count": 60,
   "outputs": [],
   "source": [
    "df_tasks = pd.DataFrame(columns=[\"book_id\", \"tasks\"])\n",
    "for i in range(len(df)):\n",
    "    for n in range(len(df[\"tasks\"][i])):\n",
    "        new_line = {\"book_id\":df[\"id\"][i], \"tasks\":df[\"tasks\"][i][n]}\n",
    "        df_tasks = df_tasks.append(new_line, ignore_index=True)"
   ],
   "metadata": {
    "collapsed": false,
    "pycharm": {
     "name": "#%%\n"
    }
   }
  },
  {
   "cell_type": "code",
   "execution_count": 61,
   "outputs": [
    {
     "data": {
      "text/plain": "   book_id tasks\n0        A   000\n1        B   001\n2        B   002\n3        B   003\n4        B   004\n..     ...   ...\n95       J   085\n96       J   086\n97       I   058\n98       I   101\n99       I   102\n\n[100 rows x 2 columns]",
      "text/html": "<div>\n<style scoped>\n    .dataframe tbody tr th:only-of-type {\n        vertical-align: middle;\n    }\n\n    .dataframe tbody tr th {\n        vertical-align: top;\n    }\n\n    .dataframe thead th {\n        text-align: right;\n    }\n</style>\n<table border=\"1\" class=\"dataframe\">\n  <thead>\n    <tr style=\"text-align: right;\">\n      <th></th>\n      <th>book_id</th>\n      <th>tasks</th>\n    </tr>\n  </thead>\n  <tbody>\n    <tr>\n      <th>0</th>\n      <td>A</td>\n      <td>000</td>\n    </tr>\n    <tr>\n      <th>1</th>\n      <td>B</td>\n      <td>001</td>\n    </tr>\n    <tr>\n      <th>2</th>\n      <td>B</td>\n      <td>002</td>\n    </tr>\n    <tr>\n      <th>3</th>\n      <td>B</td>\n      <td>003</td>\n    </tr>\n    <tr>\n      <th>4</th>\n      <td>B</td>\n      <td>004</td>\n    </tr>\n    <tr>\n      <th>...</th>\n      <td>...</td>\n      <td>...</td>\n    </tr>\n    <tr>\n      <th>95</th>\n      <td>J</td>\n      <td>085</td>\n    </tr>\n    <tr>\n      <th>96</th>\n      <td>J</td>\n      <td>086</td>\n    </tr>\n    <tr>\n      <th>97</th>\n      <td>I</td>\n      <td>058</td>\n    </tr>\n    <tr>\n      <th>98</th>\n      <td>I</td>\n      <td>101</td>\n    </tr>\n    <tr>\n      <th>99</th>\n      <td>I</td>\n      <td>102</td>\n    </tr>\n  </tbody>\n</table>\n<p>100 rows × 2 columns</p>\n</div>"
     },
     "execution_count": 61,
     "metadata": {},
     "output_type": "execute_result"
    }
   ],
   "source": [
    "df_tasks"
   ],
   "metadata": {
    "collapsed": false,
    "pycharm": {
     "name": "#%%\n"
    }
   }
  },
  {
   "cell_type": "code",
   "execution_count": 63,
   "outputs": [
    {
     "data": {
      "text/plain": "   id requires\n0   A       []\n1   B      [A]\n2   C      [A]\n3   D      [A]\n4   E      [A]\n5   H      [A]\n6   F      [A]\n7   K      [A]\n8   G      [A]\n9   J      [A]\n10  I      [A]",
      "text/html": "<div>\n<style scoped>\n    .dataframe tbody tr th:only-of-type {\n        vertical-align: middle;\n    }\n\n    .dataframe tbody tr th {\n        vertical-align: top;\n    }\n\n    .dataframe thead th {\n        text-align: right;\n    }\n</style>\n<table border=\"1\" class=\"dataframe\">\n  <thead>\n    <tr style=\"text-align: right;\">\n      <th></th>\n      <th>id</th>\n      <th>requires</th>\n    </tr>\n  </thead>\n  <tbody>\n    <tr>\n      <th>0</th>\n      <td>A</td>\n      <td>[]</td>\n    </tr>\n    <tr>\n      <th>1</th>\n      <td>B</td>\n      <td>[A]</td>\n    </tr>\n    <tr>\n      <th>2</th>\n      <td>C</td>\n      <td>[A]</td>\n    </tr>\n    <tr>\n      <th>3</th>\n      <td>D</td>\n      <td>[A]</td>\n    </tr>\n    <tr>\n      <th>4</th>\n      <td>E</td>\n      <td>[A]</td>\n    </tr>\n    <tr>\n      <th>5</th>\n      <td>H</td>\n      <td>[A]</td>\n    </tr>\n    <tr>\n      <th>6</th>\n      <td>F</td>\n      <td>[A]</td>\n    </tr>\n    <tr>\n      <th>7</th>\n      <td>K</td>\n      <td>[A]</td>\n    </tr>\n    <tr>\n      <th>8</th>\n      <td>G</td>\n      <td>[A]</td>\n    </tr>\n    <tr>\n      <th>9</th>\n      <td>J</td>\n      <td>[A]</td>\n    </tr>\n    <tr>\n      <th>10</th>\n      <td>I</td>\n      <td>[A]</td>\n    </tr>\n  </tbody>\n</table>\n</div>"
     },
     "execution_count": 63,
     "metadata": {},
     "output_type": "execute_result"
    }
   ],
   "source": [
    "df_book"
   ],
   "metadata": {
    "collapsed": false,
    "pycharm": {
     "name": "#%%\n"
    }
   }
  },
  {
   "cell_type": "code",
   "execution_count": 62,
   "outputs": [],
   "source": [
    "df_tasks.to_csv(path_or_buf=\"book_task.csv\", sep=\",\")"
   ],
   "metadata": {
    "collapsed": false,
    "pycharm": {
     "name": "#%%\n"
    }
   }
  },
  {
   "cell_type": "code",
   "execution_count": 22,
   "outputs": [],
   "source": [
    "df_book.to_csv(path_or_buf=\"book_requires.csv\", sep=\",\")"
   ],
   "metadata": {
    "collapsed": false,
    "pycharm": {
     "name": "#%%\n"
    }
   }
  },
  {
   "cell_type": "code",
   "execution_count": null,
   "outputs": [],
   "source": [],
   "metadata": {
    "collapsed": false,
    "pycharm": {
     "name": "#%%\n"
    }
   }
  }
 ],
 "metadata": {
  "kernelspec": {
   "display_name": "Python 3",
   "language": "python",
   "name": "python3"
  },
  "language_info": {
   "codemirror_mode": {
    "name": "ipython",
    "version": 2
   },
   "file_extension": ".py",
   "mimetype": "text/x-python",
   "name": "python",
   "nbconvert_exporter": "python",
   "pygments_lexer": "ipython2",
   "version": "2.7.6"
  }
 },
 "nbformat": 4,
 "nbformat_minor": 0
}