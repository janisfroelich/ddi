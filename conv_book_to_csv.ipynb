{
 "cells": [
  {
   "cell_type": "code",
   "execution_count": 43,
   "metadata": {
    "collapsed": true
   },
   "outputs": [],
   "source": [
    "import pandas as pd"
   ]
  },
  {
   "cell_type": "code",
   "execution_count": 44,
   "outputs": [],
   "source": [
    "df = pd.read_json(\"book-progression.json\", orient=\"records\")"
   ],
   "metadata": {
    "collapsed": false,
    "pycharm": {
     "name": "#%%\n"
    }
   }
  },
  {
   "cell_type": "code",
   "execution_count": 45,
   "outputs": [
    {
     "data": {
      "text/plain": "   id                                              tasks requires\n0   A                                              [000]       []\n1   B  [001, 002, 003, 004, 005, 006, 007, 008, 009, ...      [A]\n2   C  [013, 014, 015, 016, 017, 018, 019, 020, 021, ...      [A]\n3   D      [025, 026, 027, 028, 029, 030, 031, 032, 033]      [A]\n4   E           [034, 035, 036, 037, 038, 039, 040, 041]      [A]\n5   H                [051, 052, 053, 054, 055, 056, 057]      [A]\n6   F  [059, 060, 061, 062, 043, 063, 044, 045, 046, ...      [A]\n7   K  [090, 091, 092, 093, 094, 095, 096, 097, 098, ...      [A]\n8   G  [050, 068, 069, 070, 071, 072, 073, 074, 075, ...      [A]\n9   J  [077, 078, 079, 080, 081, 082, 083, 084, 085, ...      [A]\n10  I                                    [058, 101, 102]      [A]",
      "text/html": "<div>\n<style scoped>\n    .dataframe tbody tr th:only-of-type {\n        vertical-align: middle;\n    }\n\n    .dataframe tbody tr th {\n        vertical-align: top;\n    }\n\n    .dataframe thead th {\n        text-align: right;\n    }\n</style>\n<table border=\"1\" class=\"dataframe\">\n  <thead>\n    <tr style=\"text-align: right;\">\n      <th></th>\n      <th>id</th>\n      <th>tasks</th>\n      <th>requires</th>\n    </tr>\n  </thead>\n  <tbody>\n    <tr>\n      <th>0</th>\n      <td>A</td>\n      <td>[000]</td>\n      <td>[]</td>\n    </tr>\n    <tr>\n      <th>1</th>\n      <td>B</td>\n      <td>[001, 002, 003, 004, 005, 006, 007, 008, 009, ...</td>\n      <td>[A]</td>\n    </tr>\n    <tr>\n      <th>2</th>\n      <td>C</td>\n      <td>[013, 014, 015, 016, 017, 018, 019, 020, 021, ...</td>\n      <td>[A]</td>\n    </tr>\n    <tr>\n      <th>3</th>\n      <td>D</td>\n      <td>[025, 026, 027, 028, 029, 030, 031, 032, 033]</td>\n      <td>[A]</td>\n    </tr>\n    <tr>\n      <th>4</th>\n      <td>E</td>\n      <td>[034, 035, 036, 037, 038, 039, 040, 041]</td>\n      <td>[A]</td>\n    </tr>\n    <tr>\n      <th>5</th>\n      <td>H</td>\n      <td>[051, 052, 053, 054, 055, 056, 057]</td>\n      <td>[A]</td>\n    </tr>\n    <tr>\n      <th>6</th>\n      <td>F</td>\n      <td>[059, 060, 061, 062, 043, 063, 044, 045, 046, ...</td>\n      <td>[A]</td>\n    </tr>\n    <tr>\n      <th>7</th>\n      <td>K</td>\n      <td>[090, 091, 092, 093, 094, 095, 096, 097, 098, ...</td>\n      <td>[A]</td>\n    </tr>\n    <tr>\n      <th>8</th>\n      <td>G</td>\n      <td>[050, 068, 069, 070, 071, 072, 073, 074, 075, ...</td>\n      <td>[A]</td>\n    </tr>\n    <tr>\n      <th>9</th>\n      <td>J</td>\n      <td>[077, 078, 079, 080, 081, 082, 083, 084, 085, ...</td>\n      <td>[A]</td>\n    </tr>\n    <tr>\n      <th>10</th>\n      <td>I</td>\n      <td>[058, 101, 102]</td>\n      <td>[A]</td>\n    </tr>\n  </tbody>\n</table>\n</div>"
     },
     "execution_count": 45,
     "metadata": {},
     "output_type": "execute_result"
    }
   ],
   "source": [
    "df"
   ],
   "metadata": {
    "collapsed": false,
    "pycharm": {
     "name": "#%%\n"
    }
   }
  },
  {
   "cell_type": "code",
   "execution_count": 46,
   "outputs": [],
   "source": [
    "df_book = df[[\"id\", \"requires\"]]"
   ],
   "metadata": {
    "collapsed": false,
    "pycharm": {
     "name": "#%%\n"
    }
   }
  },
  {
   "cell_type": "code",
   "execution_count": 47,
   "outputs": [
    {
     "data": {
      "text/plain": "   book_id requires\n0        A       []\n1        B      [A]\n2        C      [A]\n3        D      [A]\n4        E      [A]\n5        H      [A]\n6        F      [A]\n7        K      [A]\n8        G      [A]\n9        J      [A]\n10       I      [A]",
      "text/html": "<div>\n<style scoped>\n    .dataframe tbody tr th:only-of-type {\n        vertical-align: middle;\n    }\n\n    .dataframe tbody tr th {\n        vertical-align: top;\n    }\n\n    .dataframe thead th {\n        text-align: right;\n    }\n</style>\n<table border=\"1\" class=\"dataframe\">\n  <thead>\n    <tr style=\"text-align: right;\">\n      <th></th>\n      <th>book_id</th>\n      <th>requires</th>\n    </tr>\n  </thead>\n  <tbody>\n    <tr>\n      <th>0</th>\n      <td>A</td>\n      <td>[]</td>\n    </tr>\n    <tr>\n      <th>1</th>\n      <td>B</td>\n      <td>[A]</td>\n    </tr>\n    <tr>\n      <th>2</th>\n      <td>C</td>\n      <td>[A]</td>\n    </tr>\n    <tr>\n      <th>3</th>\n      <td>D</td>\n      <td>[A]</td>\n    </tr>\n    <tr>\n      <th>4</th>\n      <td>E</td>\n      <td>[A]</td>\n    </tr>\n    <tr>\n      <th>5</th>\n      <td>H</td>\n      <td>[A]</td>\n    </tr>\n    <tr>\n      <th>6</th>\n      <td>F</td>\n      <td>[A]</td>\n    </tr>\n    <tr>\n      <th>7</th>\n      <td>K</td>\n      <td>[A]</td>\n    </tr>\n    <tr>\n      <th>8</th>\n      <td>G</td>\n      <td>[A]</td>\n    </tr>\n    <tr>\n      <th>9</th>\n      <td>J</td>\n      <td>[A]</td>\n    </tr>\n    <tr>\n      <th>10</th>\n      <td>I</td>\n      <td>[A]</td>\n    </tr>\n  </tbody>\n</table>\n</div>"
     },
     "execution_count": 47,
     "metadata": {},
     "output_type": "execute_result"
    }
   ],
   "source": [
    "df_book.rename(columns={\"id\": \"book_id\"})"
   ],
   "metadata": {
    "collapsed": false,
    "pycharm": {
     "name": "#%%\n"
    }
   }
  },
  {
   "cell_type": "code",
   "execution_count": 48,
   "outputs": [],
   "source": [
    "df = df.drop(columns=[\"requires\"])"
   ],
   "metadata": {
    "collapsed": false,
    "pycharm": {
     "name": "#%%\n"
    }
   }
  },
  {
   "cell_type": "code",
   "execution_count": 56,
   "outputs": [],
   "source": [
    "df_tasks = pd.DataFrame(columns=[\"id\", \"book_id\", \"tasks\"])\n",
    "id = 0\n",
    "for i in range(len(df)):\n",
    "    for n in range(len(df[\"tasks\"][i])):\n",
    "        new_line = {\"id\":int(id), \"book_id\":df[\"id\"][i], \"tasks\":df[\"tasks\"][i][n]}\n",
    "        df_tasks = df_tasks.append(new_line, ignore_index=True)\n",
    "        id += 1"
   ],
   "metadata": {
    "collapsed": false,
    "pycharm": {
     "name": "#%%\n"
    }
   }
  },
  {
   "cell_type": "code",
   "execution_count": 57,
   "outputs": [
    {
     "data": {
      "text/plain": "    id book_id tasks\n0    0       A   000\n1    1       B   001\n2    2       B   002\n3    3       B   003\n4    4       B   004\n..  ..     ...   ...\n95  95       J   085\n96  96       J   086\n97  97       I   058\n98  98       I   101\n99  99       I   102\n\n[100 rows x 3 columns]",
      "text/html": "<div>\n<style scoped>\n    .dataframe tbody tr th:only-of-type {\n        vertical-align: middle;\n    }\n\n    .dataframe tbody tr th {\n        vertical-align: top;\n    }\n\n    .dataframe thead th {\n        text-align: right;\n    }\n</style>\n<table border=\"1\" class=\"dataframe\">\n  <thead>\n    <tr style=\"text-align: right;\">\n      <th></th>\n      <th>id</th>\n      <th>book_id</th>\n      <th>tasks</th>\n    </tr>\n  </thead>\n  <tbody>\n    <tr>\n      <th>0</th>\n      <td>0</td>\n      <td>A</td>\n      <td>000</td>\n    </tr>\n    <tr>\n      <th>1</th>\n      <td>1</td>\n      <td>B</td>\n      <td>001</td>\n    </tr>\n    <tr>\n      <th>2</th>\n      <td>2</td>\n      <td>B</td>\n      <td>002</td>\n    </tr>\n    <tr>\n      <th>3</th>\n      <td>3</td>\n      <td>B</td>\n      <td>003</td>\n    </tr>\n    <tr>\n      <th>4</th>\n      <td>4</td>\n      <td>B</td>\n      <td>004</td>\n    </tr>\n    <tr>\n      <th>...</th>\n      <td>...</td>\n      <td>...</td>\n      <td>...</td>\n    </tr>\n    <tr>\n      <th>95</th>\n      <td>95</td>\n      <td>J</td>\n      <td>085</td>\n    </tr>\n    <tr>\n      <th>96</th>\n      <td>96</td>\n      <td>J</td>\n      <td>086</td>\n    </tr>\n    <tr>\n      <th>97</th>\n      <td>97</td>\n      <td>I</td>\n      <td>058</td>\n    </tr>\n    <tr>\n      <th>98</th>\n      <td>98</td>\n      <td>I</td>\n      <td>101</td>\n    </tr>\n    <tr>\n      <th>99</th>\n      <td>99</td>\n      <td>I</td>\n      <td>102</td>\n    </tr>\n  </tbody>\n</table>\n<p>100 rows × 3 columns</p>\n</div>"
     },
     "execution_count": 57,
     "metadata": {},
     "output_type": "execute_result"
    }
   ],
   "source": [
    "df_tasks"
   ],
   "metadata": {
    "collapsed": false,
    "pycharm": {
     "name": "#%%\n"
    }
   }
  },
  {
   "cell_type": "code",
   "execution_count": 58,
   "outputs": [],
   "source": [
    "df_tasks.to_csv(path_or_buf=\"book_task.csv\", sep=\",\")"
   ],
   "metadata": {
    "collapsed": false,
    "pycharm": {
     "name": "#%%\n"
    }
   }
  },
  {
   "cell_type": "code",
   "execution_count": 59,
   "outputs": [],
   "source": [
    "df_book.to_csv(path_or_buf=\"book_requires.csv\", sep=\",\")"
   ],
   "metadata": {
    "collapsed": false,
    "pycharm": {
     "name": "#%%\n"
    }
   }
  },
  {
   "cell_type": "code",
   "execution_count": null,
   "outputs": [],
   "source": [],
   "metadata": {
    "collapsed": false,
    "pycharm": {
     "name": "#%%\n"
    }
   }
  }
 ],
 "metadata": {
  "kernelspec": {
   "display_name": "Python 3",
   "language": "python",
   "name": "python3"
  },
  "language_info": {
   "codemirror_mode": {
    "name": "ipython",
    "version": 2
   },
   "file_extension": ".py",
   "mimetype": "text/x-python",
   "name": "python",
   "nbconvert_exporter": "python",
   "pygments_lexer": "ipython2",
   "version": "2.7.6"
  }
 },
 "nbformat": 4,
 "nbformat_minor": 0
}